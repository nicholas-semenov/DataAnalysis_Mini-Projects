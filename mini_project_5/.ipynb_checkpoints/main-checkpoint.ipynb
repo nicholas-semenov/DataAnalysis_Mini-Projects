{
 "cells": [
  {
   "cell_type": "code",
   "execution_count": 107,
   "id": "f44faa9b",
   "metadata": {},
   "outputs": [],
   "source": [
    "import pandas as pd\n",
    "import numpy as np\n",
    "import seaborn as sns\n",
    "import scipy.stats as ss\n",
    "import matplotlib.pyplot as plt\n",
    "from statsmodels.stats.multicomp import pairwise_tukeyhsd\n",
    "\n",
    "\n",
    "\n",
    "sns.set(rc={'figure.figsize':(16,6)}, style='whitegrid')"
   ]
  },
  {
   "cell_type": "code",
   "execution_count": 108,
   "id": "930e20f4",
   "metadata": {},
   "outputs": [],
   "source": [
    "#Test-1"
   ]
  },
  {
   "cell_type": "code",
   "execution_count": 109,
   "id": "b1120700",
   "metadata": {},
   "outputs": [],
   "source": [
    "#Hypothesis Formulation\n",
    "\n",
    "#Null hypothesis (𝐻0): The mean values of order quantity (events) are the same in all groups.\n",
    "#Alternative hypothesis (𝐻1): The mean values of the number of orders (events) in at least one group are different from the others."
   ]
  },
  {
   "cell_type": "code",
   "execution_count": 110,
   "id": "83a7c8fa",
   "metadata": {},
   "outputs": [],
   "source": [
    "#Data loading and preparation"
   ]
  },
  {
   "cell_type": "code",
   "execution_count": 111,
   "id": "c4a73463",
   "metadata": {},
   "outputs": [
    {
     "data": {
      "text/html": [
       "<div>\n",
       "<style scoped>\n",
       "    .dataframe tbody tr th:only-of-type {\n",
       "        vertical-align: middle;\n",
       "    }\n",
       "\n",
       "    .dataframe tbody tr th {\n",
       "        vertical-align: top;\n",
       "    }\n",
       "\n",
       "    .dataframe thead th {\n",
       "        text-align: right;\n",
       "    }\n",
       "</style>\n",
       "<table border=\"1\" class=\"dataframe\">\n",
       "  <thead>\n",
       "    <tr style=\"text-align: right;\">\n",
       "      <th></th>\n",
       "      <th>id</th>\n",
       "      <th>group</th>\n",
       "      <th>events</th>\n",
       "    </tr>\n",
       "  </thead>\n",
       "  <tbody>\n",
       "    <tr>\n",
       "      <th>0</th>\n",
       "      <td>16046</td>\n",
       "      <td>A</td>\n",
       "      <td>14</td>\n",
       "    </tr>\n",
       "    <tr>\n",
       "      <th>1</th>\n",
       "      <td>18712</td>\n",
       "      <td>A</td>\n",
       "      <td>41</td>\n",
       "    </tr>\n",
       "    <tr>\n",
       "      <th>2</th>\n",
       "      <td>3268</td>\n",
       "      <td>A</td>\n",
       "      <td>30</td>\n",
       "    </tr>\n",
       "    <tr>\n",
       "      <th>3</th>\n",
       "      <td>22633</td>\n",
       "      <td>A</td>\n",
       "      <td>37</td>\n",
       "    </tr>\n",
       "    <tr>\n",
       "      <th>4</th>\n",
       "      <td>28071</td>\n",
       "      <td>A</td>\n",
       "      <td>38</td>\n",
       "    </tr>\n",
       "    <tr>\n",
       "      <th>...</th>\n",
       "      <td>...</td>\n",
       "      <td>...</td>\n",
       "      <td>...</td>\n",
       "    </tr>\n",
       "    <tr>\n",
       "      <th>29995</th>\n",
       "      <td>22932</td>\n",
       "      <td>C</td>\n",
       "      <td>38</td>\n",
       "    </tr>\n",
       "    <tr>\n",
       "      <th>29996</th>\n",
       "      <td>21787</td>\n",
       "      <td>C</td>\n",
       "      <td>25</td>\n",
       "    </tr>\n",
       "    <tr>\n",
       "      <th>29997</th>\n",
       "      <td>5054</td>\n",
       "      <td>C</td>\n",
       "      <td>34</td>\n",
       "    </tr>\n",
       "    <tr>\n",
       "      <th>29998</th>\n",
       "      <td>10254</td>\n",
       "      <td>C</td>\n",
       "      <td>27</td>\n",
       "    </tr>\n",
       "    <tr>\n",
       "      <th>29999</th>\n",
       "      <td>5692</td>\n",
       "      <td>C</td>\n",
       "      <td>49</td>\n",
       "    </tr>\n",
       "  </tbody>\n",
       "</table>\n",
       "<p>30000 rows × 3 columns</p>\n",
       "</div>"
      ],
      "text/plain": [
       "          id group  events\n",
       "0      16046     A      14\n",
       "1      18712     A      41\n",
       "2       3268     A      30\n",
       "3      22633     A      37\n",
       "4      28071     A      38\n",
       "...      ...   ...     ...\n",
       "29995  22932     C      38\n",
       "29996  21787     C      25\n",
       "29997   5054     C      34\n",
       "29998  10254     C      27\n",
       "29999   5692     C      49\n",
       "\n",
       "[30000 rows x 3 columns]"
      ]
     },
     "execution_count": 111,
     "metadata": {},
     "output_type": "execute_result"
    }
   ],
   "source": [
    "df = pd.read_csv('5_task_1.csv')\n",
    "df"
   ]
  },
  {
   "cell_type": "code",
   "execution_count": 112,
   "id": "c9290f5f",
   "metadata": {},
   "outputs": [
    {
     "name": "stdout",
     "output_type": "stream",
     "text": [
      "(30000, 3)\n",
      "<class 'pandas.core.frame.DataFrame'>\n",
      "RangeIndex: 30000 entries, 0 to 29999\n",
      "Data columns (total 3 columns):\n",
      " #   Column  Non-Null Count  Dtype \n",
      "---  ------  --------------  ----- \n",
      " 0   id      30000 non-null  int64 \n",
      " 1   group   30000 non-null  object\n",
      " 2   events  30000 non-null  int64 \n",
      "dtypes: int64(2), object(1)\n",
      "memory usage: 703.2+ KB\n"
     ]
    }
   ],
   "source": [
    "print(df.shape)\n",
    "\n",
    "df.info()"
   ]
  },
  {
   "cell_type": "code",
   "execution_count": 113,
   "id": "3c80724f",
   "metadata": {},
   "outputs": [
    {
     "data": {
      "text/plain": [
       "id        0\n",
       "group     0\n",
       "events    0\n",
       "dtype: int64"
      ]
     },
     "execution_count": 113,
     "metadata": {},
     "output_type": "execute_result"
    }
   ],
   "source": [
    "df.isnull().sum()"
   ]
  },
  {
   "cell_type": "code",
   "execution_count": 114,
   "id": "ae58bdc1",
   "metadata": {},
   "outputs": [
    {
     "data": {
      "text/plain": [
       "id        30000\n",
       "group         3\n",
       "events       81\n",
       "dtype: int64"
      ]
     },
     "execution_count": 114,
     "metadata": {},
     "output_type": "execute_result"
    }
   ],
   "source": [
    "df.nunique()"
   ]
  },
  {
   "cell_type": "code",
   "execution_count": 115,
   "id": "3809885b",
   "metadata": {},
   "outputs": [
    {
     "name": "stdout",
     "output_type": "stream",
     "text": [
      "A    10000\n",
      "B    10000\n",
      "C    10000\n",
      "Name: group, dtype: int64\n"
     ]
    }
   ],
   "source": [
    "print(df['group'].value_counts())"
   ]
  },
  {
   "cell_type": "code",
   "execution_count": 116,
   "id": "deb9c621",
   "metadata": {},
   "outputs": [],
   "source": [
    "df_A = df[df['group'] == 'A']['events']\n",
    "df_B = df[df['group'] == 'B']['events']\n",
    "df_C = df[df['group'] == 'C']['events']"
   ]
  },
  {
   "cell_type": "code",
   "execution_count": 117,
   "id": "0352939a",
   "metadata": {},
   "outputs": [],
   "source": [
    "#date of analysis"
   ]
  },
  {
   "cell_type": "code",
   "execution_count": 118,
   "id": "b1ddccb7",
   "metadata": {},
   "outputs": [
    {
     "data": {
      "text/plain": [
       "LeveneResult(statistic=2.2622596339318037, pvalue=0.1041327199523974)"
      ]
     },
     "execution_count": 118,
     "metadata": {},
     "output_type": "execute_result"
    }
   ],
   "source": [
    "ss.levene(df_A, df_B, df_C, center='median') #that means the dispersions are homogeneous"
   ]
  },
  {
   "cell_type": "code",
   "execution_count": 119,
   "id": "9f6ea27f",
   "metadata": {},
   "outputs": [],
   "source": [
    "#If the sample size in each group is 10000, the test of normality of the distribution becomes less critical,\n",
    "#because with larger sample sizes, the law of large numbers and the central limit theorem allow us to assume \n",
    "#the normality of the distribution of mean values. "
   ]
  },
  {
   "cell_type": "code",
   "execution_count": 120,
   "id": "f69fa8d1",
   "metadata": {},
   "outputs": [
    {
     "name": "stdout",
     "output_type": "stream",
     "text": [
      "F-статистика: 2886.166657438961\n",
      "P-значение: 0.0\n"
     ]
    }
   ],
   "source": [
    "#ANOVA\n",
    "\n",
    "f_statistic, p_value = ss.f_oneway(df_A, df_B, df_C)\n",
    "\n",
    "print(f\"F-статистика: {f_statistic}\")\n",
    "print(f\"P-значение: {p_value}\")\n",
    "\n",
    "#If the p-value is less than 0.05, there is a statistically significant difference between the mean values of the groups."
   ]
  },
  {
   "cell_type": "code",
   "execution_count": 121,
   "id": "7d734dbc",
   "metadata": {},
   "outputs": [
    {
     "name": "stdout",
     "output_type": "stream",
     "text": [
      "Multiple Comparison of Means - Tukey HSD, FWER=0.05 \n",
      "====================================================\n",
      "group1 group2 meandiff p-adj  lower    upper  reject\n",
      "----------------------------------------------------\n",
      "     A      B    8.034   0.0   7.7038  8.3642   True\n",
      "     A      C  -2.1093   0.0  -2.4395 -1.7791   True\n",
      "     B      C -10.1433   0.0 -10.4735 -9.8131   True\n",
      "----------------------------------------------------\n"
     ]
    }
   ],
   "source": [
    "#Tukey's HSD Test\n",
    "\n",
    "tukey = pairwise_tukeyhsd(endog=df['events'], groups=df['group'], alpha=0.05)\n",
    "\n",
    "print(tukey)"
   ]
  },
  {
   "cell_type": "code",
   "execution_count": 122,
   "id": "0546568a",
   "metadata": {},
   "outputs": [],
   "source": [
    "#Group B is preferred because square images meaningfully increase the number of orders compared to rectangular 16:9 images (Group A)."
   ]
  },
  {
   "cell_type": "code",
   "execution_count": null,
   "id": "1e830d2e",
   "metadata": {},
   "outputs": [],
   "source": []
  },
  {
   "cell_type": "code",
   "execution_count": 123,
   "id": "4549eebb",
   "metadata": {},
   "outputs": [],
   "source": [
    "#Test-2"
   ]
  },
  {
   "cell_type": "code",
   "execution_count": 155,
   "id": "c72aee0d",
   "metadata": {},
   "outputs": [],
   "source": [
    "#Hypothesis Formulation\n",
    "\n",
    "#Null hypothesis(𝐻0): The introduction of a new version of the order button has no statistically significant effect on the number of user orders.\n",
    "#Alternative hypothesis(𝐻1): The introduction of a new version of the order button leads to a statistically significant change in the number of user orders."
   ]
  },
  {
   "cell_type": "code",
   "execution_count": 156,
   "id": "6c2891f1",
   "metadata": {},
   "outputs": [],
   "source": [
    "#Data loading and preparation"
   ]
  },
  {
   "cell_type": "code",
   "execution_count": 157,
   "id": "b3a6e868",
   "metadata": {},
   "outputs": [
    {
     "data": {
      "text/html": [
       "<div>\n",
       "<style scoped>\n",
       "    .dataframe tbody tr th:only-of-type {\n",
       "        vertical-align: middle;\n",
       "    }\n",
       "\n",
       "    .dataframe tbody tr th {\n",
       "        vertical-align: top;\n",
       "    }\n",
       "\n",
       "    .dataframe thead th {\n",
       "        text-align: right;\n",
       "    }\n",
       "</style>\n",
       "<table border=\"1\" class=\"dataframe\">\n",
       "  <thead>\n",
       "    <tr style=\"text-align: right;\">\n",
       "      <th></th>\n",
       "      <th>id</th>\n",
       "      <th>group</th>\n",
       "      <th>segment</th>\n",
       "      <th>events</th>\n",
       "    </tr>\n",
       "  </thead>\n",
       "  <tbody>\n",
       "    <tr>\n",
       "      <th>0</th>\n",
       "      <td>83440</td>\n",
       "      <td>test</td>\n",
       "      <td>high</td>\n",
       "      <td>78.0</td>\n",
       "    </tr>\n",
       "    <tr>\n",
       "      <th>1</th>\n",
       "      <td>96723</td>\n",
       "      <td>test</td>\n",
       "      <td>high</td>\n",
       "      <td>71.0</td>\n",
       "    </tr>\n",
       "    <tr>\n",
       "      <th>2</th>\n",
       "      <td>68719</td>\n",
       "      <td>test</td>\n",
       "      <td>high</td>\n",
       "      <td>80.0</td>\n",
       "    </tr>\n",
       "    <tr>\n",
       "      <th>3</th>\n",
       "      <td>50399</td>\n",
       "      <td>test</td>\n",
       "      <td>high</td>\n",
       "      <td>80.0</td>\n",
       "    </tr>\n",
       "    <tr>\n",
       "      <th>4</th>\n",
       "      <td>95613</td>\n",
       "      <td>test</td>\n",
       "      <td>high</td>\n",
       "      <td>78.0</td>\n",
       "    </tr>\n",
       "    <tr>\n",
       "      <th>...</th>\n",
       "      <td>...</td>\n",
       "      <td>...</td>\n",
       "      <td>...</td>\n",
       "      <td>...</td>\n",
       "    </tr>\n",
       "    <tr>\n",
       "      <th>99995</th>\n",
       "      <td>60695</td>\n",
       "      <td>control</td>\n",
       "      <td>low</td>\n",
       "      <td>15.0</td>\n",
       "    </tr>\n",
       "    <tr>\n",
       "      <th>99996</th>\n",
       "      <td>5934</td>\n",
       "      <td>control</td>\n",
       "      <td>low</td>\n",
       "      <td>16.0</td>\n",
       "    </tr>\n",
       "    <tr>\n",
       "      <th>99997</th>\n",
       "      <td>30046</td>\n",
       "      <td>control</td>\n",
       "      <td>low</td>\n",
       "      <td>22.0</td>\n",
       "    </tr>\n",
       "    <tr>\n",
       "      <th>99998</th>\n",
       "      <td>26474</td>\n",
       "      <td>control</td>\n",
       "      <td>low</td>\n",
       "      <td>21.0</td>\n",
       "    </tr>\n",
       "    <tr>\n",
       "      <th>99999</th>\n",
       "      <td>42649</td>\n",
       "      <td>control</td>\n",
       "      <td>low</td>\n",
       "      <td>23.0</td>\n",
       "    </tr>\n",
       "  </tbody>\n",
       "</table>\n",
       "<p>100000 rows × 4 columns</p>\n",
       "</div>"
      ],
      "text/plain": [
       "          id    group segment  events\n",
       "0      83440     test    high    78.0\n",
       "1      96723     test    high    71.0\n",
       "2      68719     test    high    80.0\n",
       "3      50399     test    high    80.0\n",
       "4      95613     test    high    78.0\n",
       "...      ...      ...     ...     ...\n",
       "99995  60695  control     low    15.0\n",
       "99996   5934  control     low    16.0\n",
       "99997  30046  control     low    22.0\n",
       "99998  26474  control     low    21.0\n",
       "99999  42649  control     low    23.0\n",
       "\n",
       "[100000 rows x 4 columns]"
      ]
     },
     "execution_count": 157,
     "metadata": {},
     "output_type": "execute_result"
    }
   ],
   "source": [
    "df = pd.read_csv('5_task_2.csv')\n",
    "df"
   ]
  },
  {
   "cell_type": "code",
   "execution_count": 158,
   "id": "6c642e03",
   "metadata": {},
   "outputs": [
    {
     "name": "stdout",
     "output_type": "stream",
     "text": [
      "(100000, 4)\n",
      "<class 'pandas.core.frame.DataFrame'>\n",
      "RangeIndex: 100000 entries, 0 to 99999\n",
      "Data columns (total 4 columns):\n",
      " #   Column   Non-Null Count   Dtype  \n",
      "---  ------   --------------   -----  \n",
      " 0   id       100000 non-null  int64  \n",
      " 1   group    100000 non-null  object \n",
      " 2   segment  100000 non-null  object \n",
      " 3   events   100000 non-null  float64\n",
      "dtypes: float64(1), int64(1), object(2)\n",
      "memory usage: 3.1+ MB\n"
     ]
    }
   ],
   "source": [
    "print(df.shape)\n",
    "\n",
    "df.info()"
   ]
  },
  {
   "cell_type": "code",
   "execution_count": 159,
   "id": "9fd99d6e",
   "metadata": {},
   "outputs": [
    {
     "data": {
      "text/plain": [
       "id         0\n",
       "group      0\n",
       "segment    0\n",
       "events     0\n",
       "dtype: int64"
      ]
     },
     "execution_count": 159,
     "metadata": {},
     "output_type": "execute_result"
    }
   ],
   "source": [
    "df.isnull().sum()"
   ]
  },
  {
   "cell_type": "code",
   "execution_count": 160,
   "id": "9fd43c01",
   "metadata": {},
   "outputs": [
    {
     "data": {
      "text/plain": [
       "id         100000\n",
       "group           2\n",
       "segment         2\n",
       "events         97\n",
       "dtype: int64"
      ]
     },
     "execution_count": 160,
     "metadata": {},
     "output_type": "execute_result"
    }
   ],
   "source": [
    "df.nunique()"
   ]
  },
  {
   "cell_type": "code",
   "execution_count": 161,
   "id": "3af77253",
   "metadata": {},
   "outputs": [
    {
     "name": "stdout",
     "output_type": "stream",
     "text": [
      "test       50000\n",
      "control    50000\n",
      "Name: group, dtype: int64\n"
     ]
    }
   ],
   "source": [
    "print(df['group'].value_counts())"
   ]
  },
  {
   "cell_type": "code",
   "execution_count": 162,
   "id": "dd44a6dd",
   "metadata": {},
   "outputs": [],
   "source": [
    "grouped = df.groupby('group')\n",
    "\n",
    "group_control = grouped.get_group('control')\n",
    "group_test = grouped.get_group('test')"
   ]
  },
  {
   "cell_type": "code",
   "execution_count": 163,
   "id": "20e0b2c9",
   "metadata": {},
   "outputs": [],
   "source": [
    "#date of analysis"
   ]
  },
  {
   "cell_type": "code",
   "execution_count": 164,
   "id": "b7f9a144",
   "metadata": {},
   "outputs": [
    {
     "name": "stderr",
     "output_type": "stream",
     "text": [
      "/var/folders/6d/4w1l1x3x045ff9n6n6jmjqdm0000gn/T/ipykernel_29696/2582215000.py:1: SettingWithCopyWarning: \n",
      "A value is trying to be set on a copy of a slice from a DataFrame.\n",
      "Try using .loc[row_indexer,col_indexer] = value instead\n",
      "\n",
      "See the caveats in the documentation: https://pandas.pydata.org/pandas-docs/stable/user_guide/indexing.html#returning-a-view-versus-a-copy\n",
      "  group_control['events'] = np.log(group_control['events'])\n",
      "/var/folders/6d/4w1l1x3x045ff9n6n6jmjqdm0000gn/T/ipykernel_29696/2582215000.py:2: SettingWithCopyWarning: \n",
      "A value is trying to be set on a copy of a slice from a DataFrame.\n",
      "Try using .loc[row_indexer,col_indexer] = value instead\n",
      "\n",
      "See the caveats in the documentation: https://pandas.pydata.org/pandas-docs/stable/user_guide/indexing.html#returning-a-view-versus-a-copy\n",
      "  group_test['events'] = np.log(group_test['events'])\n"
     ]
    },
    {
     "data": {
      "image/png": "[encoded data removed]",
      "text/plain": [
       "<Figure size 720x432 with 1 Axes>"
      ]
     },
     "metadata": {},
     "output_type": "display_data"
    },
    {
     "data": {
      "image/png": "[encoded data removed]",
      "text/plain": [
       "<Figure size 720x432 with 1 Axes>"
      ]
     },
     "metadata": {},
     "output_type": "display_data"
    }
   ],
   "source": [
    "group_control['events'] = np.log(group_control['events'])\n",
    "group_test['events'] = np.log(group_test['events'])\n",
    "\n",
    "# Visualisation of the distribution\n",
    "plt.figure(figsize=(10, 6))\n",
    "sns.histplot(group_control['events'], kde=True, color='blue', label='Control')\n",
    "sns.histplot(group_test['events'], kde=True, color='orange', label='Test')\n",
    "plt.legend()\n",
    "plt.title('Distribution of Events')\n",
    "plt.xlabel('Events')\n",
    "plt.ylabel('Frequency')\n",
    "plt.show()\n",
    "\n",
    "# Boxplot\n",
    "plt.figure(figsize=(10, 6))\n",
    "sns.boxplot(x='group', y='events', data=df)\n",
    "plt.title('Boxplot')\n",
    "plt.xlabel('Group')\n",
    "plt.ylabel('Events')\n",
    "plt.show()"
   ]
  },
  {
   "cell_type": "code",
   "execution_count": 165,
   "id": "845857b6",
   "metadata": {},
   "outputs": [
    {
     "name": "stdout",
     "output_type": "stream",
     "text": [
      "LeveneResult(statistic=2622.600182498178, pvalue=0.0)\n",
      "T-Statistic: -162.57243153946757, P-Value: 0.0\n",
      "Differences are statistically significant\n"
     ]
    }
   ],
   "source": [
    "# All data\n",
    "\n",
    "print(ss.levene(group_control['events'], group_test['events'], center='median')) #that means the dispersions are homogeneous\n",
    "\n",
    "t_stat, p_value = ss.ttest_ind(group_control['events'], group_test['events'], equal_var=False)\n",
    "print(f\"T-Statistic: {t_stat}, P-Value: {p_value}\")\n",
    "\n",
    "# Checking the significance of the results\n",
    "alpha = 0.05\n",
    "if p_value < alpha:\n",
    "    print(\"Differences are statistically significant\")\n",
    "else:\n",
    "    print(\"Differences are not statistically significant\")"
   ]
  },
  {
   "cell_type": "code",
   "execution_count": 166,
   "id": "7bae200c",
   "metadata": {},
   "outputs": [
    {
     "name": "stdout",
     "output_type": "stream",
     "text": [
      "Levene's test for high segment: p-value = 2.429294930311981e-13\n",
      "Levene's test for low segment: p-value = 0.0\n",
      "T-test for high segment: p-value = 0.0\n",
      "T-test for low segment: p-value = 0.0\n",
      "High segment: Significant difference found, consider using the new button for high segment users.\n",
      "Low segment: Significant difference found, consider using the new button for low segment users.\n"
     ]
    }
   ],
   "source": [
    "#Segment (high/low) \n",
    "\n",
    "# Segmenting the data\n",
    "control_high = group_control[group_control['segment'] == 'high']\n",
    "control_low = group_control[group_control['segment'] == 'low']\n",
    "test_high = group_test[group_test['segment'] == 'high']\n",
    "test_low = group_test[group_test['segment'] == 'low']\n",
    "\n",
    "# Homogeneity of variance test (Levene's test)\n",
    "levene_high = ss.levene(control_high['events'], test_high['events'])\n",
    "levene_low = ss.levene(control_low['events'], test_low['events'])\n",
    "\n",
    "print(f\"Levene's test for high segment: p-value = {levene_high.pvalue}\")\n",
    "print(f\"Levene's test for low segment: p-value = {levene_low.pvalue}\")\n",
    "\n",
    "# Performing t-test for independent samples by segment\n",
    "ttest_high = ss.ttest_ind(control_high['events'], test_high['events'])\n",
    "ttest_low = ss.ttest_ind(control_low['events'], test_low['events'])\n",
    "\n",
    "print(f\"T-test for high segment: p-value = {ttest_high.pvalue}\")\n",
    "print(f\"T-test for low segment: p-value = {ttest_low.pvalue}\")\n",
    "\n",
    "# Making a decision\n",
    "if ttest_high.pvalue < 0.05:\n",
    "    print(\"High segment: Significant difference found, consider using the new button for high segment users.\")\n",
    "else:\n",
    "    print(\"High segment: No significant difference found, no change needed for high segment users.\")\n",
    "\n",
    "if ttest_low.pvalue < 0.05:\n",
    "    print(\"Low segment: Significant difference found, consider using the new button for low segment users.\")\n",
    "else:\n",
    "    print(\"Low segment: No significant difference found, no change needed for low segment users.\")"
   ]
  },
  {
   "cell_type": "code",
   "execution_count": 167,
   "id": "fb3ba880",
   "metadata": {},
   "outputs": [],
   "source": [
    "#Based on the tests conducted and the results obtained, we can conclude that the new order button showed \n",
    "#a statistically significant impact on the number of orders both in general for all users and in individual \n",
    "#segments (high/low). Therefore, it is recommended to implement the new button for all users of the application."
   ]
  }
 ],
 "metadata": {
  "kernelspec": {
   "display_name": "Python 3 (ipykernel)",
   "language": "python",
   "name": "python3"
  },
  "language_info": {
   "codemirror_mode": {
    "name": "ipython",
    "version": 3
   },
   "file_extension": ".py",
   "mimetype": "text/x-python",
   "name": "python",
   "nbconvert_exporter": "python",
   "pygments_lexer": "ipython3",
   "version": "3.9.12"
  }
 },
 "nbformat": 4,
 "nbformat_minor": 5
}
