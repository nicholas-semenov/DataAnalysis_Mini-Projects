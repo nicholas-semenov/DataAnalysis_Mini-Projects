{
 "cells": [
  {
   "cell_type": "code",
   "execution_count": 35,
   "id": "96bb8752",
   "metadata": {},
   "outputs": [],
   "source": [
    "import pandas as pd\n",
    "import numpy as np\n",
    "import seaborn as sns\n",
    "import scipy.stats as ss\n",
    "import matplotlib.pyplot as plt\n",
    "\n",
    "sns.set(rc={'figure.figsize':(16,6)}, style='whitegrid')"
   ]
  },
  {
   "cell_type": "code",
   "execution_count": 19,
   "id": "37483a68",
   "metadata": {},
   "outputs": [],
   "source": [
    "#1"
   ]
  },
  {
   "cell_type": "code",
   "execution_count": 20,
   "id": "6d898c4f",
   "metadata": {},
   "outputs": [
    {
     "data": {
      "text/html": [
       "<div>\n",
       "<style scoped>\n",
       "    .dataframe tbody tr th:only-of-type {\n",
       "        vertical-align: middle;\n",
       "    }\n",
       "\n",
       "    .dataframe tbody tr th {\n",
       "        vertical-align: top;\n",
       "    }\n",
       "\n",
       "    .dataframe thead th {\n",
       "        text-align: right;\n",
       "    }\n",
       "</style>\n",
       "<table border=\"1\" class=\"dataframe\">\n",
       "  <thead>\n",
       "    <tr style=\"text-align: right;\">\n",
       "      <th></th>\n",
       "      <th>ad_id</th>\n",
       "      <th>xyz_campaign_id</th>\n",
       "      <th>fb_campaign_id</th>\n",
       "      <th>age</th>\n",
       "      <th>gender</th>\n",
       "      <th>interest</th>\n",
       "      <th>Impressions</th>\n",
       "      <th>Clicks</th>\n",
       "      <th>Spent</th>\n",
       "      <th>Total_Conversion</th>\n",
       "      <th>Approved_Conversion</th>\n",
       "    </tr>\n",
       "  </thead>\n",
       "  <tbody>\n",
       "    <tr>\n",
       "      <th>0</th>\n",
       "      <td>708746</td>\n",
       "      <td>916</td>\n",
       "      <td>103916</td>\n",
       "      <td>30-34</td>\n",
       "      <td>M</td>\n",
       "      <td>15</td>\n",
       "      <td>7350</td>\n",
       "      <td>1</td>\n",
       "      <td>1.43</td>\n",
       "      <td>2</td>\n",
       "      <td>1</td>\n",
       "    </tr>\n",
       "    <tr>\n",
       "      <th>1</th>\n",
       "      <td>708749</td>\n",
       "      <td>916</td>\n",
       "      <td>103917</td>\n",
       "      <td>30-34</td>\n",
       "      <td>M</td>\n",
       "      <td>16</td>\n",
       "      <td>17861</td>\n",
       "      <td>2</td>\n",
       "      <td>1.82</td>\n",
       "      <td>2</td>\n",
       "      <td>0</td>\n",
       "    </tr>\n",
       "    <tr>\n",
       "      <th>2</th>\n",
       "      <td>708771</td>\n",
       "      <td>916</td>\n",
       "      <td>103920</td>\n",
       "      <td>30-34</td>\n",
       "      <td>M</td>\n",
       "      <td>20</td>\n",
       "      <td>693</td>\n",
       "      <td>0</td>\n",
       "      <td>0.00</td>\n",
       "      <td>1</td>\n",
       "      <td>0</td>\n",
       "    </tr>\n",
       "    <tr>\n",
       "      <th>3</th>\n",
       "      <td>708815</td>\n",
       "      <td>916</td>\n",
       "      <td>103928</td>\n",
       "      <td>30-34</td>\n",
       "      <td>M</td>\n",
       "      <td>28</td>\n",
       "      <td>4259</td>\n",
       "      <td>1</td>\n",
       "      <td>1.25</td>\n",
       "      <td>1</td>\n",
       "      <td>0</td>\n",
       "    </tr>\n",
       "    <tr>\n",
       "      <th>4</th>\n",
       "      <td>708818</td>\n",
       "      <td>916</td>\n",
       "      <td>103928</td>\n",
       "      <td>30-34</td>\n",
       "      <td>M</td>\n",
       "      <td>28</td>\n",
       "      <td>4133</td>\n",
       "      <td>1</td>\n",
       "      <td>1.29</td>\n",
       "      <td>1</td>\n",
       "      <td>1</td>\n",
       "    </tr>\n",
       "  </tbody>\n",
       "</table>\n",
       "</div>"
      ],
      "text/plain": [
       "    ad_id  xyz_campaign_id  fb_campaign_id    age gender  interest  \\\n",
       "0  708746              916          103916  30-34      M        15   \n",
       "1  708749              916          103917  30-34      M        16   \n",
       "2  708771              916          103920  30-34      M        20   \n",
       "3  708815              916          103928  30-34      M        28   \n",
       "4  708818              916          103928  30-34      M        28   \n",
       "\n",
       "   Impressions  Clicks  Spent  Total_Conversion  Approved_Conversion  \n",
       "0         7350       1   1.43                 2                    1  \n",
       "1        17861       2   1.82                 2                    0  \n",
       "2          693       0   0.00                 1                    0  \n",
       "3         4259       1   1.25                 1                    0  \n",
       "4         4133       1   1.29                 1                    1  "
      ]
     },
     "execution_count": 20,
     "metadata": {},
     "output_type": "execute_result"
    }
   ],
   "source": [
    "df = pd.read_csv(\"conversion.csv\")\n",
    "df.head()"
   ]
  },
  {
   "cell_type": "code",
   "execution_count": 21,
   "id": "b2b300e9",
   "metadata": {},
   "outputs": [
    {
     "name": "stdout",
     "output_type": "stream",
     "text": [
      "(1143, 11)\n",
      "<class 'pandas.core.frame.DataFrame'>\n",
      "RangeIndex: 1143 entries, 0 to 1142\n",
      "Data columns (total 11 columns):\n",
      " #   Column               Non-Null Count  Dtype  \n",
      "---  ------               --------------  -----  \n",
      " 0   ad_id                1143 non-null   int64  \n",
      " 1   xyz_campaign_id      1143 non-null   int64  \n",
      " 2   fb_campaign_id       1143 non-null   int64  \n",
      " 3   age                  1143 non-null   object \n",
      " 4   gender               1143 non-null   object \n",
      " 5   interest             1143 non-null   int64  \n",
      " 6   Impressions          1143 non-null   int64  \n",
      " 7   Clicks               1143 non-null   int64  \n",
      " 8   Spent                1143 non-null   float64\n",
      " 9   Total_Conversion     1143 non-null   int64  \n",
      " 10  Approved_Conversion  1143 non-null   int64  \n",
      "dtypes: float64(1), int64(8), object(2)\n",
      "memory usage: 98.4+ KB\n"
     ]
    }
   ],
   "source": [
    "print(df.shape)\n",
    "df.info()"
   ]
  },
  {
   "cell_type": "code",
   "execution_count": 22,
   "id": "3247a42e",
   "metadata": {
    "scrolled": true
   },
   "outputs": [
    {
     "data": {
      "text/plain": [
       "ad_id                  0\n",
       "xyz_campaign_id        0\n",
       "fb_campaign_id         0\n",
       "age                    0\n",
       "gender                 0\n",
       "interest               0\n",
       "Impressions            0\n",
       "Clicks                 0\n",
       "Spent                  0\n",
       "Total_Conversion       0\n",
       "Approved_Conversion    0\n",
       "dtype: int64"
      ]
     },
     "execution_count": 22,
     "metadata": {},
     "output_type": "execute_result"
    }
   ],
   "source": [
    "df.isnull().sum()"
   ]
  },
  {
   "cell_type": "code",
   "execution_count": 23,
   "id": "fa0c1b40",
   "metadata": {},
   "outputs": [
    {
     "data": {
      "text/plain": [
       "ad_id                  1143\n",
       "xyz_campaign_id           3\n",
       "fb_campaign_id          691\n",
       "age                       4\n",
       "gender                    2\n",
       "interest                 40\n",
       "Impressions            1130\n",
       "Clicks                  183\n",
       "Spent                   869\n",
       "Total_Conversion         32\n",
       "Approved_Conversion      16\n",
       "dtype: int64"
      ]
     },
     "execution_count": 23,
     "metadata": {},
     "output_type": "execute_result"
    }
   ],
   "source": [
    "df.nunique()"
   ]
  },
  {
   "cell_type": "code",
   "execution_count": 24,
   "id": "6e7ec250",
   "metadata": {},
   "outputs": [],
   "source": [
    "#2"
   ]
  },
  {
   "cell_type": "code",
   "execution_count": 40,
   "id": "5d15a78f",
   "metadata": {},
   "outputs": [
    {
     "name": "stderr",
     "output_type": "stream",
     "text": [
      "/Users/nikolaj/opt/anaconda3/lib/python3.9/site-packages/seaborn/distributions.py:2619: FutureWarning: `distplot` is a deprecated function and will be removed in a future version. Please adapt your code to use either `displot` (a figure-level function with similar flexibility) or `histplot` (an axes-level function for histograms).\n",
      "  warnings.warn(msg, FutureWarning)\n"
     ]
    },
    {
     "data": {
      "text/plain": [
       "<AxesSubplot:xlabel='Impressions', ylabel='Density'>"
      ]
     },
     "execution_count": 40,
     "metadata": {},
     "output_type": "execute_result"
    },
    {
     "data": {
      "image/png": "[encoded data removed]",
      "text/plain": [
       "<Figure size 1152x432 with 1 Axes>"
      ]
     },
     "metadata": {},
     "output_type": "display_data"
    }
   ],
   "source": [
    "sns.distplot(np.log(df.groupby(df['fb_campaign_id']).Impressions.sum()), hist=True, kde=True, bins=50)\n",
    "\n",
    "# Bimodal distribution"
   ]
  },
  {
   "cell_type": "code",
   "execution_count": 41,
   "id": "ad709654",
   "metadata": {},
   "outputs": [],
   "source": [
    "#3"
   ]
  },
  {
   "cell_type": "code",
   "execution_count": 42,
   "id": "4fec7644",
   "metadata": {},
   "outputs": [],
   "source": [
    "#CTR = Cliks/Impressions\n",
    "\n",
    "df['ctr'] = df.Clicks / df.Impressions"
   ]
  },
  {
   "cell_type": "code",
   "execution_count": 43,
   "id": "9599b6a4",
   "metadata": {},
   "outputs": [
    {
     "data": {
      "text/plain": [
       "count    1143.000000\n",
       "mean        0.000164\n",
       "std         0.000115\n",
       "min         0.000000\n",
       "25%         0.000100\n",
       "50%         0.000160\n",
       "75%         0.000234\n",
       "max         0.001059\n",
       "Name: ctr, dtype: float64"
      ]
     },
     "execution_count": 43,
     "metadata": {},
     "output_type": "execute_result"
    }
   ],
   "source": [
    "df.ctr.describe()"
   ]
  },
  {
   "cell_type": "code",
   "execution_count": 49,
   "id": "c596fef9",
   "metadata": {},
   "outputs": [
    {
     "data": {
      "text/plain": [
       "ad_id                    738637\n",
       "xyz_campaign_id             936\n",
       "fb_campaign_id           109857\n",
       "age                       45-49\n",
       "gender                        F\n",
       "interest                     24\n",
       "Impressions                 944\n",
       "Clicks                        1\n",
       "Spent                      1.42\n",
       "Total_Conversion              1\n",
       "Approved_Conversion           0\n",
       "ctr                    0.001059\n",
       "Name: 150, dtype: object"
      ]
     },
     "execution_count": 49,
     "metadata": {},
     "output_type": "execute_result"
    }
   ],
   "source": [
    "df.loc[df['ctr'].idxmax()]"
   ]
  },
  {
   "cell_type": "code",
   "execution_count": 50,
   "id": "2a5d659e",
   "metadata": {},
   "outputs": [],
   "source": [
    "#4"
   ]
  },
  {
   "cell_type": "code",
   "execution_count": 54,
   "id": "8224601b",
   "metadata": {},
   "outputs": [
    {
     "data": {
      "text/plain": [
       "<AxesSubplot:xlabel='ctr'>"
      ]
     },
     "execution_count": 54,
     "metadata": {},
     "output_type": "execute_result"
    },
    {
     "data": {
      "image/png": "[encoded data removed]",
      "text/plain": [
       "<Figure size 1152x432 with 1 Axes>"
      ]
     },
     "metadata": {},
     "output_type": "display_data"
    }
   ],
   "source": [
    "sns.distplot(df[df['xyz_campaign_id'] == 916].ctr, bins=20, kde=False)"
   ]
  },
  {
   "cell_type": "code",
   "execution_count": 55,
   "id": "7e70f618",
   "metadata": {},
   "outputs": [],
   "source": [
    "#5"
   ]
  },
  {
   "cell_type": "code",
   "execution_count": 56,
   "id": "6b03e775",
   "metadata": {},
   "outputs": [],
   "source": [
    "#CPC = spent/cliks\n",
    "\n",
    "df['cpc'] = df.Spent / df.Clicks"
   ]
  },
  {
   "cell_type": "code",
   "execution_count": 57,
   "id": "91f54a77",
   "metadata": {},
   "outputs": [
    {
     "data": {
      "text/plain": [
       "count    936.000000\n",
       "mean       1.499347\n",
       "std        0.232879\n",
       "min        0.180000\n",
       "25%        1.390000\n",
       "50%        1.498273\n",
       "75%        1.644364\n",
       "max        2.212000\n",
       "Name: cpc, dtype: float64"
      ]
     },
     "execution_count": 57,
     "metadata": {},
     "output_type": "execute_result"
    }
   ],
   "source": [
    "df.cpc.describe()"
   ]
  },
  {
   "cell_type": "code",
   "execution_count": 61,
   "id": "544332e1",
   "metadata": {},
   "outputs": [
    {
     "name": "stderr",
     "output_type": "stream",
     "text": [
      "/Users/nikolaj/opt/anaconda3/lib/python3.9/site-packages/seaborn/distributions.py:2619: FutureWarning: `distplot` is a deprecated function and will be removed in a future version. Please adapt your code to use either `displot` (a figure-level function with similar flexibility) or `histplot` (an axes-level function for histograms).\n",
      "  warnings.warn(msg, FutureWarning)\n"
     ]
    },
    {
     "data": {
      "text/plain": [
       "<AxesSubplot:xlabel='cpc', ylabel='Density'>"
      ]
     },
     "execution_count": 61,
     "metadata": {},
     "output_type": "execute_result"
    },
    {
     "data": {
      "image/png": "[encoded data removed]",
      "text/plain": [
       "<Figure size 1152x432 with 1 Axes>"
      ]
     },
     "metadata": {},
     "output_type": "display_data"
    }
   ],
   "source": [
    "sns.distplot(df['cpc'].dropna(), hist=True, kde=True, bins=20)"
   ]
  },
  {
   "cell_type": "code",
   "execution_count": 64,
   "id": "510f207f",
   "metadata": {},
   "outputs": [
    {
     "name": "stdout",
     "output_type": "stream",
     "text": [
      "IQR: 0.25\n"
     ]
    }
   ],
   "source": [
    "IQR = df['cpc'].quantile(0.75) - df['cpc'].quantile(0.25)\n",
    "\n",
    "print(\"IQR:\", round(IQR, 2))"
   ]
  },
  {
   "cell_type": "code",
   "execution_count": 65,
   "id": "21e7dc9d",
   "metadata": {},
   "outputs": [],
   "source": [
    "#6"
   ]
  },
  {
   "cell_type": "code",
   "execution_count": 80,
   "id": "ec6ff345",
   "metadata": {},
   "outputs": [
    {
     "name": "stderr",
     "output_type": "stream",
     "text": [
      "/Users/nikolaj/opt/anaconda3/lib/python3.9/site-packages/seaborn/distributions.py:2619: FutureWarning: `distplot` is a deprecated function and will be removed in a future version. Please adapt your code to use either `displot` (a figure-level function with similar flexibility) or `histplot` (an axes-level function for histograms).\n",
      "  warnings.warn(msg, FutureWarning)\n",
      "/Users/nikolaj/opt/anaconda3/lib/python3.9/site-packages/seaborn/distributions.py:2619: FutureWarning: `distplot` is a deprecated function and will be removed in a future version. Please adapt your code to use either `displot` (a figure-level function with similar flexibility) or `histplot` (an axes-level function for histograms).\n",
      "  warnings.warn(msg, FutureWarning)\n"
     ]
    },
    {
     "data": {
      "text/plain": [
       "<AxesSubplot:xlabel='cpc', ylabel='Density'>"
      ]
     },
     "execution_count": 80,
     "metadata": {},
     "output_type": "execute_result"
    },
    {
     "data": {
      "image/png": "[encoded data removed]",
      "text/plain": [
       "<Figure size 1152x432 with 1 Axes>"
      ]
     },
     "metadata": {},
     "output_type": "display_data"
    }
   ],
   "source": [
    "df_cpc_M = df.query(\"gender == 'M'\").cpc.dropna()\n",
    "df_cpc_W = df.query(\"gender == 'F'\").cpc.dropna()\n",
    "\n",
    "sns.distplot(df_cpc_M, color='blue', label='Male') \n",
    "sns.distplot(df_cpc_W, color='red', label='Female')"
   ]
  },
  {
   "cell_type": "code",
   "execution_count": 81,
   "id": "95d7d4cb",
   "metadata": {},
   "outputs": [],
   "source": [
    "#7"
   ]
  },
  {
   "cell_type": "code",
   "execution_count": 82,
   "id": "11e9692e",
   "metadata": {},
   "outputs": [],
   "source": [
    "df['сr'] = (df.Approved_Conversion / df.Clicks) * 100"
   ]
  },
  {
   "cell_type": "code",
   "execution_count": 83,
   "id": "fa23a477",
   "metadata": {},
   "outputs": [
    {
     "data": {
      "text/plain": [
       "860    3.087886\n",
       "Name: сr, dtype: float64"
      ]
     },
     "execution_count": 83,
     "metadata": {},
     "output_type": "execute_result"
    }
   ],
   "source": [
    "df[df['ad_id'] == 1121814].сr"
   ]
  }
 ],
 "metadata": {
  "kernelspec": {
   "display_name": "Python 3 (ipykernel)",
   "language": "python",
   "name": "python3"
  },
  "language_info": {
   "codemirror_mode": {
    "name": "ipython",
    "version": 3
   },
   "file_extension": ".py",
   "mimetype": "text/x-python",
   "name": "python",
   "nbconvert_exporter": "python",
   "pygments_lexer": "ipython3",
   "version": "3.9.12"
  }
 },
 "nbformat": 4,
 "nbformat_minor": 5
}
